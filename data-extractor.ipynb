{
 "cells": [
  {
   "cell_type": "code",
   "execution_count": 14,
   "id": "4d5268ee-854a-4727-94a1-8f13bbef236b",
   "metadata": {},
   "outputs": [],
   "source": [
    "import os\n",
    "import lzma # handling xz files\n",
    "from tqdm import tqdm # displaying progress bar"
   ]
  },
  {
   "cell_type": "code",
   "execution_count": 15,
   "id": "a4c81595-e06f-4e79-8eac-b66096303902",
   "metadata": {},
   "outputs": [
    {
     "name": "stderr",
     "output_type": "stream",
     "text": [
      "100%|████████████████████████████████████████████████████████████████████████████| 18549/18549 [37:56<00:00,  8.15it/s]\n",
      "100%|██████████████████████████████████████████████████████████████████████████████| 2061/2061 [04:28<00:00,  7.68it/s]\n"
     ]
    }
   ],
   "source": [
    "# returns a list that has the .xz file names\n",
    "def xz_files_in_dir(directory):\n",
    "    files = []\n",
    "    for filename in os.listdir(directory):\n",
    "        if filename.endswith(\".xz\") and os.path.isfile(os.path.join(directory, filename)):\n",
    "            files.append(filename)\n",
    "    return files\n",
    "\n",
    "folder_path = \"C:\\\\Users\\\\sayed\\\\Desktop\\\\Learnings\\\\LLM\\dataset\\\\openwebtext\"\n",
    "output_files_train= \"train_split.txt\"\n",
    "output_files_val= \"val_split.txt\"\n",
    "vocab_file = \"vocab.txt\"\n",
    "\n",
    "\n",
    "files = xz_files_in_dir(folder_path)\n",
    "total_files = len(files)\n",
    "\n",
    "# Calculate the split indices\n",
    "split_index = int(total_files * 0.9) \n",
    "files_train = files[:split_index]\n",
    "files_val = files[split_index:]\n",
    "\n",
    "# Process the files for training and validation separately\n",
    "\n",
    "vocab = set()\n",
    "\n",
    "#processing .xz files for training\n",
    "with open(output_files_train, \"w\", encoding=\"utf-8\") as outfile:\n",
    "       for filename in tqdm(files_train, total=len(files_train)):\n",
    "        file_path = os.path.join(folder_path, filename)\n",
    "        with lzma.open(file_path, \"rt\", encoding=\"utf-8\") as infile:\n",
    "             text = infile.read()\n",
    "             outfile.write(text)\n",
    "             characters = set(text)\n",
    "             vocab.update(characters)\n",
    "\n",
    "#processing .xz files for validation\n",
    "with open(output_files_val, \"w\", encoding=\"utf-8\") as outfile:\n",
    "       for filename in tqdm(files_val, total=len(files_val)):\n",
    "        file_path = os.path.join(folder_path, filename)\n",
    "        with lzma.open(file_path, \"rt\", encoding=\"utf-8\") as infile:\n",
    "             text = infile.read()\n",
    "             outfile.write(text)\n",
    "             characters = set(text)\n",
    "             vocab.update(characters)\n",
    "\n",
    "\n",
    "#writing the unique character into the vocab_file\n",
    "with open(vocab_file, \"w\", encoding=\"utf-8\") as vfile:\n",
    "    for char in vocab:\n",
    "        vfile.write(char + '\\n')\n",
    "            \n"
   ]
  },
  {
   "cell_type": "code",
   "execution_count": null,
   "id": "e5899ff6-1cbd-4c7b-bfea-b78adac0f610",
   "metadata": {},
   "outputs": [],
   "source": []
  }
 ],
 "metadata": {
  "kernelspec": {
   "display_name": "Python (cuda)",
   "language": "python",
   "name": "cuda"
  },
  "language_info": {
   "codemirror_mode": {
    "name": "ipython",
    "version": 3
   },
   "file_extension": ".py",
   "mimetype": "text/x-python",
   "name": "python",
   "nbconvert_exporter": "python",
   "pygments_lexer": "ipython3",
   "version": "3.10.14"
  }
 },
 "nbformat": 4,
 "nbformat_minor": 5
}
